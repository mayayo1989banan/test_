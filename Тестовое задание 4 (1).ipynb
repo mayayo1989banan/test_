{
 "cells": [
  {
   "cell_type": "code",
   "execution_count": 162,
   "id": "57c8a36b",
   "metadata": {},
   "outputs": [],
   "source": [
    "import numpy as np\n",
    "import pandas as pd\n",
    "import seaborn as sns\n",
    "import scipy.stats as stats\n",
    "import matplotlib.pyplot as plt\n",
    "import datetime\n",
    "from pandas.tseries.offsets import DateOffset"
   ]
  },
  {
   "cell_type": "code",
   "execution_count": 188,
   "id": "78c4d9ad",
   "metadata": {},
   "outputs": [],
   "source": [
    "from sklearn.model_selection import GridSearchCV\n",
    "from sklearn.linear_model import Ridge\n",
    "from sklearn.metrics import mean_squared_error\n",
    "from sklearn.compose import ColumnTransformer\n",
    "from sklearn.impute import SimpleImputer\n",
    "from sklearn.preprocessing import StandardScaler, OneHotEncoder\n",
    "from sklearn.pipeline import Pipeline\n",
    "from sklearn.model_selection import train_test_split\n",
    "from sklearn import ensemble\n",
    "from sklearn.preprocessing import OrdinalEncoder\n",
    "from sklearn.compose import ColumnTransformer "
   ]
  },
  {
   "cell_type": "code",
   "execution_count": 17,
   "id": "b4036274",
   "metadata": {},
   "outputs": [],
   "source": [
    "import warnings\n",
    "warnings.filterwarnings('ignore')"
   ]
  },
  {
   "cell_type": "code",
   "execution_count": 323,
   "id": "68de89a8",
   "metadata": {},
   "outputs": [
    {
     "data": {
      "text/html": [
       "<div>\n",
       "<style scoped>\n",
       "    .dataframe tbody tr th:only-of-type {\n",
       "        vertical-align: middle;\n",
       "    }\n",
       "\n",
       "    .dataframe tbody tr th {\n",
       "        vertical-align: top;\n",
       "    }\n",
       "\n",
       "    .dataframe thead th {\n",
       "        text-align: right;\n",
       "    }\n",
       "</style>\n",
       "<table border=\"1\" class=\"dataframe\">\n",
       "  <thead>\n",
       "    <tr style=\"text-align: right;\">\n",
       "      <th></th>\n",
       "      <th>Unnamed: 0</th>\n",
       "      <th>ts</th>\n",
       "      <th>user</th>\n",
       "      <th>payment</th>\n",
       "    </tr>\n",
       "  </thead>\n",
       "  <tbody>\n",
       "    <tr>\n",
       "      <th>0</th>\n",
       "      <td>534543</td>\n",
       "      <td>2022-01-01 00:03:40.907</td>\n",
       "      <td>Kkkww7LxsEqojhi6i</td>\n",
       "      <td>101.000</td>\n",
       "    </tr>\n",
       "    <tr>\n",
       "      <th>1</th>\n",
       "      <td>534546</td>\n",
       "      <td>2022-01-01 00:53:16.300</td>\n",
       "      <td>botxbGKkKNaXfKGiR</td>\n",
       "      <td>41.000</td>\n",
       "    </tr>\n",
       "    <tr>\n",
       "      <th>2</th>\n",
       "      <td>534549</td>\n",
       "      <td>2022-01-01 03:50:03.295</td>\n",
       "      <td>bQbjq4PobqAFRcTy2</td>\n",
       "      <td>58.000</td>\n",
       "    </tr>\n",
       "    <tr>\n",
       "      <th>3</th>\n",
       "      <td>534550</td>\n",
       "      <td>2022-01-01 06:11:30.875</td>\n",
       "      <td>SXLpG8h4PmbF4Afeg</td>\n",
       "      <td>53.000</td>\n",
       "    </tr>\n",
       "    <tr>\n",
       "      <th>4</th>\n",
       "      <td>534551</td>\n",
       "      <td>2022-01-01 09:11:55.582</td>\n",
       "      <td>dLh5ehuYNXQDdPJ5C</td>\n",
       "      <td>17.052</td>\n",
       "    </tr>\n",
       "  </tbody>\n",
       "</table>\n",
       "</div>"
      ],
      "text/plain": [
       "   Unnamed: 0                       ts               user  payment\n",
       "0      534543  2022-01-01 00:03:40.907  Kkkww7LxsEqojhi6i  101.000\n",
       "1      534546  2022-01-01 00:53:16.300  botxbGKkKNaXfKGiR   41.000\n",
       "2      534549  2022-01-01 03:50:03.295  bQbjq4PobqAFRcTy2   58.000\n",
       "3      534550  2022-01-01 06:11:30.875  SXLpG8h4PmbF4Afeg   53.000\n",
       "4      534551  2022-01-01 09:11:55.582  dLh5ehuYNXQDdPJ5C   17.052"
      ]
     },
     "execution_count": 323,
     "metadata": {},
     "output_type": "execute_result"
    }
   ],
   "source": [
    "df = pd.read_csv(\"test_data (1).csv\")\n",
    "df.head()"
   ]
  },
  {
   "cell_type": "code",
   "execution_count": 324,
   "id": "3dd5fb1f",
   "metadata": {},
   "outputs": [],
   "source": [
    "#df = df.sort_values(by='ts')\n",
    "df = df.drop(columns = ['Unnamed: 0'])\n",
    "df.ts = pd.to_datetime(df.ts)\n",
    "df.ts = df.ts.dt.to_period('D').dt.to_timestamp()"
   ]
  },
  {
   "cell_type": "code",
   "execution_count": 197,
   "id": "1c65f050",
   "metadata": {},
   "outputs": [
    {
     "data": {
      "text/html": [
       "<div>\n",
       "<style scoped>\n",
       "    .dataframe tbody tr th:only-of-type {\n",
       "        vertical-align: middle;\n",
       "    }\n",
       "\n",
       "    .dataframe tbody tr th {\n",
       "        vertical-align: top;\n",
       "    }\n",
       "\n",
       "    .dataframe thead th {\n",
       "        text-align: right;\n",
       "    }\n",
       "</style>\n",
       "<table border=\"1\" class=\"dataframe\">\n",
       "  <thead>\n",
       "    <tr style=\"text-align: right;\">\n",
       "      <th></th>\n",
       "      <th>ts</th>\n",
       "      <th>user</th>\n",
       "      <th>payment</th>\n",
       "    </tr>\n",
       "  </thead>\n",
       "  <tbody>\n",
       "    <tr>\n",
       "      <th>2001</th>\n",
       "      <td>2022-01-01</td>\n",
       "      <td>7GCSLHGSkSB3qdN5S</td>\n",
       "      <td>38.000</td>\n",
       "    </tr>\n",
       "    <tr>\n",
       "      <th>98</th>\n",
       "      <td>2022-01-01</td>\n",
       "      <td>EAmoSbAXS7kT3ThSX</td>\n",
       "      <td>92.000</td>\n",
       "    </tr>\n",
       "    <tr>\n",
       "      <th>1779</th>\n",
       "      <td>2022-01-01</td>\n",
       "      <td>99CPbc8vmeYXcCeQT</td>\n",
       "      <td>58.000</td>\n",
       "    </tr>\n",
       "    <tr>\n",
       "      <th>0</th>\n",
       "      <td>2022-01-01</td>\n",
       "      <td>Kkkww7LxsEqojhi6i</td>\n",
       "      <td>101.000</td>\n",
       "    </tr>\n",
       "    <tr>\n",
       "      <th>2968</th>\n",
       "      <td>2022-01-01</td>\n",
       "      <td>uuc7d5qwzCNGpyrin</td>\n",
       "      <td>18.061</td>\n",
       "    </tr>\n",
       "  </tbody>\n",
       "</table>\n",
       "</div>"
      ],
      "text/plain": [
       "             ts               user  payment\n",
       "2001 2022-01-01  7GCSLHGSkSB3qdN5S   38.000\n",
       "98   2022-01-01  EAmoSbAXS7kT3ThSX   92.000\n",
       "1779 2022-01-01  99CPbc8vmeYXcCeQT   58.000\n",
       "0    2022-01-01  Kkkww7LxsEqojhi6i  101.000\n",
       "2968 2022-01-01  uuc7d5qwzCNGpyrin   18.061"
      ]
     },
     "execution_count": 197,
     "metadata": {},
     "output_type": "execute_result"
    }
   ],
   "source": [
    "df.head()"
   ]
  },
  {
   "cell_type": "code",
   "execution_count": 216,
   "id": "0266600e",
   "metadata": {},
   "outputs": [
    {
     "data": {
      "text/plain": [
       "array(['2022-01-01T00:00:00.000000000', '2022-02-01T00:00:00.000000000',\n",
       "       '2022-03-01T00:00:00.000000000', '2022-04-01T00:00:00.000000000',\n",
       "       '2022-05-01T00:00:00.000000000', '2022-06-01T00:00:00.000000000',\n",
       "       '2022-07-01T00:00:00.000000000', '2022-08-01T00:00:00.000000000',\n",
       "       '2022-09-01T00:00:00.000000000', '2022-10-01T00:00:00.000000000',\n",
       "       '2022-11-01T00:00:00.000000000', '2022-12-01T00:00:00.000000000'],\n",
       "      dtype='datetime64[ns]')"
      ]
     },
     "execution_count": 216,
     "metadata": {},
     "output_type": "execute_result"
    }
   ],
   "source": [
    "df.ts.unique()"
   ]
  },
  {
   "cell_type": "code",
   "execution_count": 238,
   "id": "19da5550",
   "metadata": {},
   "outputs": [
    {
     "data": {
      "text/plain": [
       "1    27455\n",
       "2     2843\n",
       "3      392\n",
       "4       95\n",
       "5       22\n",
       "6        8\n",
       "7        4\n",
       "9        2\n",
       "8        2\n",
       "Name: payment, dtype: int64"
      ]
     },
     "execution_count": 238,
     "metadata": {},
     "output_type": "execute_result"
    }
   ],
   "source": [
    "df.groupby(['user', 'ts'], as_index = False).agg({'payment':'count'})['payment'].value_counts()"
   ]
  },
  {
   "cell_type": "markdown",
   "id": "4f025f95",
   "metadata": {},
   "source": [
    "Покупки совершались только в 1 день месяца, при этом количество покупок у пользователя за день могло быть разным. Будем рассматривать для каждого пользователя сумму всех покупок за день."
   ]
  },
  {
   "cell_type": "code",
   "execution_count": 325,
   "id": "8bdcda07",
   "metadata": {},
   "outputs": [
    {
     "data": {
      "text/plain": [
       "1    30823\n",
       "Name: payment_d, dtype: int64"
      ]
     },
     "execution_count": 325,
     "metadata": {},
     "output_type": "execute_result"
    }
   ],
   "source": [
    "df['payment_d'] = df.groupby(['user', 'ts'])['payment'].transform(pd.Series.sum)\n",
    "df.groupby(['user', 'ts'], as_index = False).agg({'payment_d':pd.Series.nunique})['payment_d'].value_counts()"
   ]
  },
  {
   "cell_type": "code",
   "execution_count": 242,
   "id": "d375b13d",
   "metadata": {},
   "outputs": [
    {
     "data": {
      "text/plain": [
       "<AxesSubplot:>"
      ]
     },
     "execution_count": 242,
     "metadata": {},
     "output_type": "execute_result"
    },
    {
     "data": {
      "image/png": "[encoded data removed]",
      "text/plain": [
       "<Figure size 432x288 with 1 Axes>"
      ]
     },
     "metadata": {
      "needs_background": "light"
     },
     "output_type": "display_data"
    }
   ],
   "source": [
    "df['payment_d'].hist(bins = 100)"
   ]
  },
  {
   "cell_type": "code",
   "execution_count": 326,
   "id": "7224611a",
   "metadata": {},
   "outputs": [
    {
     "data": {
      "text/plain": [
       "1    30823\n",
       "Name: payment_d, dtype: int64"
      ]
     },
     "execution_count": 326,
     "metadata": {},
     "output_type": "execute_result"
    }
   ],
   "source": [
    "df = df[['ts', 'user', 'payment_d']].drop_duplicates()\n",
    "df.groupby(['user', 'ts'], as_index = False).agg({'payment_d':'count'})['payment_d'].value_counts()"
   ]
  },
  {
   "cell_type": "markdown",
   "id": "8672aa3f",
   "metadata": {},
   "source": [
    "## Ежемесячная выручка "
   ]
  },
  {
   "cell_type": "code",
   "execution_count": 308,
   "id": "e10b742b",
   "metadata": {},
   "outputs": [
    {
     "data": {
      "text/html": [
       "<div>\n",
       "<style scoped>\n",
       "    .dataframe tbody tr th:only-of-type {\n",
       "        vertical-align: middle;\n",
       "    }\n",
       "\n",
       "    .dataframe tbody tr th {\n",
       "        vertical-align: top;\n",
       "    }\n",
       "\n",
       "    .dataframe thead th {\n",
       "        text-align: right;\n",
       "    }\n",
       "</style>\n",
       "<table border=\"1\" class=\"dataframe\">\n",
       "  <thead>\n",
       "    <tr style=\"text-align: right;\">\n",
       "      <th></th>\n",
       "      <th>ts</th>\n",
       "      <th>payment_d</th>\n",
       "    </tr>\n",
       "  </thead>\n",
       "  <tbody>\n",
       "    <tr>\n",
       "      <th>0</th>\n",
       "      <td>2022-01-01</td>\n",
       "      <td>125583.44405</td>\n",
       "    </tr>\n",
       "    <tr>\n",
       "      <th>1</th>\n",
       "      <td>2022-02-01</td>\n",
       "      <td>122304.74531</td>\n",
       "    </tr>\n",
       "    <tr>\n",
       "      <th>2</th>\n",
       "      <td>2022-03-01</td>\n",
       "      <td>135702.28475</td>\n",
       "    </tr>\n",
       "    <tr>\n",
       "      <th>3</th>\n",
       "      <td>2022-04-01</td>\n",
       "      <td>129630.32295</td>\n",
       "    </tr>\n",
       "    <tr>\n",
       "      <th>4</th>\n",
       "      <td>2022-05-01</td>\n",
       "      <td>125434.95690</td>\n",
       "    </tr>\n",
       "    <tr>\n",
       "      <th>5</th>\n",
       "      <td>2022-06-01</td>\n",
       "      <td>107664.00200</td>\n",
       "    </tr>\n",
       "    <tr>\n",
       "      <th>6</th>\n",
       "      <td>2022-07-01</td>\n",
       "      <td>86557.63950</td>\n",
       "    </tr>\n",
       "    <tr>\n",
       "      <th>7</th>\n",
       "      <td>2022-08-01</td>\n",
       "      <td>100957.33599</td>\n",
       "    </tr>\n",
       "    <tr>\n",
       "      <th>8</th>\n",
       "      <td>2022-09-01</td>\n",
       "      <td>118115.96055</td>\n",
       "    </tr>\n",
       "    <tr>\n",
       "      <th>9</th>\n",
       "      <td>2022-10-01</td>\n",
       "      <td>112693.25433</td>\n",
       "    </tr>\n",
       "    <tr>\n",
       "      <th>10</th>\n",
       "      <td>2022-11-01</td>\n",
       "      <td>120662.11504</td>\n",
       "    </tr>\n",
       "    <tr>\n",
       "      <th>11</th>\n",
       "      <td>2022-12-01</td>\n",
       "      <td>111594.11135</td>\n",
       "    </tr>\n",
       "  </tbody>\n",
       "</table>\n",
       "</div>"
      ],
      "text/plain": [
       "           ts     payment_d\n",
       "0  2022-01-01  125583.44405\n",
       "1  2022-02-01  122304.74531\n",
       "2  2022-03-01  135702.28475\n",
       "3  2022-04-01  129630.32295\n",
       "4  2022-05-01  125434.95690\n",
       "5  2022-06-01  107664.00200\n",
       "6  2022-07-01   86557.63950\n",
       "7  2022-08-01  100957.33599\n",
       "8  2022-09-01  118115.96055\n",
       "9  2022-10-01  112693.25433\n",
       "10 2022-11-01  120662.11504\n",
       "11 2022-12-01  111594.11135"
      ]
     },
     "execution_count": 308,
     "metadata": {},
     "output_type": "execute_result"
    }
   ],
   "source": [
    "df.groupby('ts', as_index = False).agg({'payment_d':'sum'})"
   ]
  },
  {
   "cell_type": "code",
   "execution_count": 322,
   "id": "5fdc2c13",
   "metadata": {},
   "outputs": [
    {
     "data": {
      "text/plain": [
       "1396900.1727200001"
      ]
     },
     "execution_count": 322,
     "metadata": {},
     "output_type": "execute_result"
    }
   ],
   "source": [
    "df.payment_d.sum()"
   ]
  },
  {
   "cell_type": "markdown",
   "id": "6ee0a3c9",
   "metadata": {},
   "source": [
    "Будем предсказывать общую выручку для активных пользователей. Обучим модель на датасете, состоящем из пользователей, которые уже не являются активными (перестали платить до декабря 2022) - для них уже известна общая выручка. В качестве фичей будем использовать сумму первого платежа, когорту - дата первого платежа, количество дней-платежей, сумма последнего платежа; таргет переменная - выручка со всех платежей (текущих и будущих), т.е. LTV пользователя."
   ]
  },
  {
   "cell_type": "code",
   "execution_count": 333,
   "id": "7f7aae19",
   "metadata": {},
   "outputs": [
    {
     "name": "stdout",
     "output_type": "stream",
     "text": [
      "(11569, 3)\n",
      "(19254, 3)\n"
     ]
    }
   ],
   "source": [
    "active_2023_users = df[df.ts == '2022-12-01'].user.unique()\n",
    "active_df = df[df.user.isin(active_2023_users)]\n",
    "learn_df = df[~df.user.isin(active_2023_users)]\n",
    "print(active_df.shape)\n",
    "print(learn_df.shape)"
   ]
  },
  {
   "cell_type": "code",
   "execution_count": 334,
   "id": "d15aa9a8",
   "metadata": {},
   "outputs": [],
   "source": [
    "learn_df['LTV'] = learn_df.groupby('user')['payment_d'].transform(pd.Series.sum)\n",
    "#y = learn_df.pop('LTV')"
   ]
  },
  {
   "cell_type": "code",
   "execution_count": 342,
   "id": "580c43a3",
   "metadata": {},
   "outputs": [],
   "source": [
    "def create_features(df):\n",
    "    \n",
    "    df['cohort'] = df.groupby('user')['ts'].transform(pd.Series.min)\n",
    "    \n",
    "    df0 = df[df.ts == df.cohort][['user', 'payment_d']]\n",
    "    df0 = df0.rename(columns={\"payment_d\": \"payment_first\"})\n",
    "    df = df.merge(df0, how = 'inner', on = 'user')\n",
    "    \n",
    "    df['num_payments'] = df.groupby('user')['ts'].transform(pd.Series.argsort)\n",
    "    \n",
    "    enc = OrdinalEncoder()\n",
    "    df['cohort']  = enc.fit_transform(np.array(df['cohort']).reshape(df.shape[0],-1))\n",
    "    \n",
    "    #только для активных - оставляем последний момент платежа каждого юзера\n",
    "    df = df[df['ts'] == '2022-12-01']\n",
    "    \n",
    "    X = df[['cohort', 'payment_first', 'num_payments', 'payment_d'#,\n",
    "           #'LTV'\n",
    "           ]]\n",
    "    return X"
   ]
  },
  {
   "cell_type": "code",
   "execution_count": 336,
   "id": "2be63424",
   "metadata": {},
   "outputs": [
    {
     "data": {
      "text/html": [
       "<div>\n",
       "<style scoped>\n",
       "    .dataframe tbody tr th:only-of-type {\n",
       "        vertical-align: middle;\n",
       "    }\n",
       "\n",
       "    .dataframe tbody tr th {\n",
       "        vertical-align: top;\n",
       "    }\n",
       "\n",
       "    .dataframe thead th {\n",
       "        text-align: right;\n",
       "    }\n",
       "</style>\n",
       "<table border=\"1\" class=\"dataframe\">\n",
       "  <thead>\n",
       "    <tr style=\"text-align: right;\">\n",
       "      <th></th>\n",
       "      <th>cohort</th>\n",
       "      <th>payment_first</th>\n",
       "      <th>num_payments</th>\n",
       "      <th>payment_d</th>\n",
       "      <th>LTV</th>\n",
       "    </tr>\n",
       "  </thead>\n",
       "  <tbody>\n",
       "    <tr>\n",
       "      <th>0</th>\n",
       "      <td>0.0</td>\n",
       "      <td>101.0</td>\n",
       "      <td>0</td>\n",
       "      <td>101.000</td>\n",
       "      <td>273.293</td>\n",
       "    </tr>\n",
       "    <tr>\n",
       "      <th>1</th>\n",
       "      <td>0.0</td>\n",
       "      <td>101.0</td>\n",
       "      <td>1</td>\n",
       "      <td>110.293</td>\n",
       "      <td>273.293</td>\n",
       "    </tr>\n",
       "    <tr>\n",
       "      <th>2</th>\n",
       "      <td>0.0</td>\n",
       "      <td>101.0</td>\n",
       "      <td>2</td>\n",
       "      <td>62.000</td>\n",
       "      <td>273.293</td>\n",
       "    </tr>\n",
       "    <tr>\n",
       "      <th>3</th>\n",
       "      <td>0.0</td>\n",
       "      <td>79.0</td>\n",
       "      <td>0</td>\n",
       "      <td>79.000</td>\n",
       "      <td>79.000</td>\n",
       "    </tr>\n",
       "    <tr>\n",
       "      <th>4</th>\n",
       "      <td>0.0</td>\n",
       "      <td>58.0</td>\n",
       "      <td>0</td>\n",
       "      <td>58.000</td>\n",
       "      <td>143.683</td>\n",
       "    </tr>\n",
       "  </tbody>\n",
       "</table>\n",
       "</div>"
      ],
      "text/plain": [
       "   cohort  payment_first  num_payments  payment_d      LTV\n",
       "0     0.0          101.0             0    101.000  273.293\n",
       "1     0.0          101.0             1    110.293  273.293\n",
       "2     0.0          101.0             2     62.000  273.293\n",
       "3     0.0           79.0             0     79.000   79.000\n",
       "4     0.0           58.0             0     58.000  143.683"
      ]
     },
     "execution_count": 336,
     "metadata": {},
     "output_type": "execute_result"
    }
   ],
   "source": [
    "X = create_features(learn_df)\n",
    "X.head()"
   ]
  },
  {
   "cell_type": "code",
   "execution_count": 339,
   "id": "f4234d22",
   "metadata": {},
   "outputs": [],
   "source": [
    "X_train, X_test, y_train, y_test = train_test_split(X[['cohort', 'payment_first', 'num_payments', 'payment_d']],\n",
    "                                                    X['LTV'], test_size = 0.2)"
   ]
  },
  {
   "cell_type": "code",
   "execution_count": 340,
   "id": "97c4a768",
   "metadata": {},
   "outputs": [
    {
     "name": "stdout",
     "output_type": "stream",
     "text": [
      "RMSE = 88.81988216473633\n"
     ]
    }
   ],
   "source": [
    "params_grid = {'n_estimators': [20, 50, 100, 200],\n",
    "               'max_depth':[2,4,6,8],\n",
    "               'min_samples_leaf': [2,3,4,5]}   \n",
    "\n",
    "reg_rf = ensemble.RandomForestRegressor()\n",
    "\n",
    "\n",
    "grid_rf = GridSearchCV(reg, param_grid = params_grid, cv = 3)\n",
    "grid_rf.fit(X_train, y_train)\n",
    "\n",
    "\n",
    "y_pred_rf = grid_rf.predict(X_test)\n",
    "print(f'RMSE = {np.sqrt(mean_squared_error(y_pred_rf,y_test))}')"
   ]
  },
  {
   "cell_type": "code",
   "execution_count": 341,
   "id": "c1c0f505",
   "metadata": {},
   "outputs": [
    {
     "data": {
      "text/html": [
       "<style>#sk-container-id-8 {color: black;background-color: white;}#sk-container-id-8 pre{padding: 0;}#sk-container-id-8 div.sk-toggleable {background-color: white;}#sk-container-id-8 label.sk-toggleable__label {cursor: pointer;display: block;width: 100%;margin-bottom: 0;padding: 0.3em;box-sizing: border-box;text-align: center;}#sk-container-id-8 label.sk-toggleable__label-arrow:before {content: \"▸\";float: left;margin-right: 0.25em;color: #696969;}#sk-container-id-8 label.sk-toggleable__label-arrow:hover:before {color: black;}#sk-container-id-8 div.sk-estimator:hover label.sk-toggleable__label-arrow:before {color: black;}#sk-container-id-8 div.sk-toggleable__content {max-height: 0;max-width: 0;overflow: hidden;text-align: left;background-color: #f0f8ff;}#sk-container-id-8 div.sk-toggleable__content pre {margin: 0.2em;color: black;border-radius: 0.25em;background-color: #f0f8ff;}#sk-container-id-8 input.sk-toggleable__control:checked~div.sk-toggleable__content {max-height: 200px;max-width: 100%;overflow: auto;}#sk-container-id-8 input.sk-toggleable__control:checked~label.sk-toggleable__label-arrow:before {content: \"▾\";}#sk-container-id-8 div.sk-estimator input.sk-toggleable__control:checked~label.sk-toggleable__label {background-color: #d4ebff;}#sk-container-id-8 div.sk-label input.sk-toggleable__control:checked~label.sk-toggleable__label {background-color: #d4ebff;}#sk-container-id-8 input.sk-hidden--visually {border: 0;clip: rect(1px 1px 1px 1px);clip: rect(1px, 1px, 1px, 1px);height: 1px;margin: -1px;overflow: hidden;padding: 0;position: absolute;width: 1px;}#sk-container-id-8 div.sk-estimator {font-family: monospace;background-color: #f0f8ff;border: 1px dotted black;border-radius: 0.25em;box-sizing: border-box;margin-bottom: 0.5em;}#sk-container-id-8 div.sk-estimator:hover {background-color: #d4ebff;}#sk-container-id-8 div.sk-parallel-item::after {content: \"\";width: 100%;border-bottom: 1px solid gray;flex-grow: 1;}#sk-container-id-8 div.sk-label:hover label.sk-toggleable__label {background-color: #d4ebff;}#sk-container-id-8 div.sk-serial::before {content: \"\";position: absolute;border-left: 1px solid gray;box-sizing: border-box;top: 0;bottom: 0;left: 50%;z-index: 0;}#sk-container-id-8 div.sk-serial {display: flex;flex-direction: column;align-items: center;background-color: white;padding-right: 0.2em;padding-left: 0.2em;position: relative;}#sk-container-id-8 div.sk-item {position: relative;z-index: 1;}#sk-container-id-8 div.sk-parallel {display: flex;align-items: stretch;justify-content: center;background-color: white;position: relative;}#sk-container-id-8 div.sk-item::before, #sk-container-id-8 div.sk-parallel-item::before {content: \"\";position: absolute;border-left: 1px solid gray;box-sizing: border-box;top: 0;bottom: 0;left: 50%;z-index: -1;}#sk-container-id-8 div.sk-parallel-item {display: flex;flex-direction: column;z-index: 1;position: relative;background-color: white;}#sk-container-id-8 div.sk-parallel-item:first-child::after {align-self: flex-end;width: 50%;}#sk-container-id-8 div.sk-parallel-item:last-child::after {align-self: flex-start;width: 50%;}#sk-container-id-8 div.sk-parallel-item:only-child::after {width: 0;}#sk-container-id-8 div.sk-dashed-wrapped {border: 1px dashed gray;margin: 0 0.4em 0.5em 0.4em;box-sizing: border-box;padding-bottom: 0.4em;background-color: white;}#sk-container-id-8 div.sk-label label {font-family: monospace;font-weight: bold;display: inline-block;line-height: 1.2em;}#sk-container-id-8 div.sk-label-container {text-align: center;}#sk-container-id-8 div.sk-container {/* jupyter's `normalize.less` sets `[hidden] { display: none; }` but bootstrap.min.css set `[hidden] { display: none !important; }` so we also need the `!important` here to be able to override the default hidden behavior on the sphinx rendered scikit-learn.org. See: https://github.com/scikit-learn/scikit-learn/issues/21755 */display: inline-block !important;position: relative;}#sk-container-id-8 div.sk-text-repr-fallback {display: none;}</style><div id=\"sk-container-id-8\" class=\"sk-top-container\"><div class=\"sk-text-repr-fallback\"><pre>RandomForestRegressor(max_depth=8, min_samples_leaf=2, n_estimators=200)</pre><b>In a Jupyter environment, please rerun this cell to show the HTML representation or trust the notebook. <br />On GitHub, the HTML representation is unable to render, please try loading this page with nbviewer.org.</b></div><div class=\"sk-container\" hidden><div class=\"sk-item\"><div class=\"sk-estimator sk-toggleable\"><input class=\"sk-toggleable__control sk-hidden--visually\" id=\"sk-estimator-id-8\" type=\"checkbox\" checked><label for=\"sk-estimator-id-8\" class=\"sk-toggleable__label sk-toggleable__label-arrow\">RandomForestRegressor</label><div class=\"sk-toggleable__content\"><pre>RandomForestRegressor(max_depth=8, min_samples_leaf=2, n_estimators=200)</pre></div></div></div></div></div>"
      ],
      "text/plain": [
       "RandomForestRegressor(max_depth=8, min_samples_leaf=2, n_estimators=200)"
      ]
     },
     "execution_count": 341,
     "metadata": {},
     "output_type": "execute_result"
    }
   ],
   "source": [
    "grid_rf.best_estimator_\n"
   ]
  },
  {
   "cell_type": "code",
   "execution_count": null,
   "id": "d301b3d2",
   "metadata": {},
   "outputs": [],
   "source": [
    "import xgboost as xgb\n",
    "params_grid_ = {'learning_rate':[0.05, 0.1, 0.5],\n",
    "               'n_estimators': [10, 20, 50, 100],\n",
    "               'max_depth':[2,4,6,8],\n",
    "               'alpha':[0, 0.1, 1, 5, 10],\n",
    "               'lambda':[0, 0.1, 1, 5, 10]\n",
    "              }   \n",
    "\n",
    "reg_xgb = xgb.XGBRegressor(objective ='reg:linear')\n",
    "\n",
    "\n",
    "grid_xgb = GridSearchCV(reg_xgb, param_grid = params_grid_, cv = 3)\n",
    "grid_xgb.fit(X_train, y_train)\n",
    "\n",
    "\n",
    "y_pred_xgb = grid_xgb.predict(X_test)\n",
    "print(f'RMSE = {np.sqrt(mean_squared_error(y_pred_xgb,y_test))}')"
   ]
  },
  {
   "cell_type": "code",
   "execution_count": 284,
   "id": "40343342",
   "metadata": {},
   "outputs": [
    {
     "data": {
      "text/html": [
       "<style>#sk-container-id-7 {color: black;background-color: white;}#sk-container-id-7 pre{padding: 0;}#sk-container-id-7 div.sk-toggleable {background-color: white;}#sk-container-id-7 label.sk-toggleable__label {cursor: pointer;display: block;width: 100%;margin-bottom: 0;padding: 0.3em;box-sizing: border-box;text-align: center;}#sk-container-id-7 label.sk-toggleable__label-arrow:before {content: \"▸\";float: left;margin-right: 0.25em;color: #696969;}#sk-container-id-7 label.sk-toggleable__label-arrow:hover:before {color: black;}#sk-container-id-7 div.sk-estimator:hover label.sk-toggleable__label-arrow:before {color: black;}#sk-container-id-7 div.sk-toggleable__content {max-height: 0;max-width: 0;overflow: hidden;text-align: left;background-color: #f0f8ff;}#sk-container-id-7 div.sk-toggleable__content pre {margin: 0.2em;color: black;border-radius: 0.25em;background-color: #f0f8ff;}#sk-container-id-7 input.sk-toggleable__control:checked~div.sk-toggleable__content {max-height: 200px;max-width: 100%;overflow: auto;}#sk-container-id-7 input.sk-toggleable__control:checked~label.sk-toggleable__label-arrow:before {content: \"▾\";}#sk-container-id-7 div.sk-estimator input.sk-toggleable__control:checked~label.sk-toggleable__label {background-color: #d4ebff;}#sk-container-id-7 div.sk-label input.sk-toggleable__control:checked~label.sk-toggleable__label {background-color: #d4ebff;}#sk-container-id-7 input.sk-hidden--visually {border: 0;clip: rect(1px 1px 1px 1px);clip: rect(1px, 1px, 1px, 1px);height: 1px;margin: -1px;overflow: hidden;padding: 0;position: absolute;width: 1px;}#sk-container-id-7 div.sk-estimator {font-family: monospace;background-color: #f0f8ff;border: 1px dotted black;border-radius: 0.25em;box-sizing: border-box;margin-bottom: 0.5em;}#sk-container-id-7 div.sk-estimator:hover {background-color: #d4ebff;}#sk-container-id-7 div.sk-parallel-item::after {content: \"\";width: 100%;border-bottom: 1px solid gray;flex-grow: 1;}#sk-container-id-7 div.sk-label:hover label.sk-toggleable__label {background-color: #d4ebff;}#sk-container-id-7 div.sk-serial::before {content: \"\";position: absolute;border-left: 1px solid gray;box-sizing: border-box;top: 0;bottom: 0;left: 50%;z-index: 0;}#sk-container-id-7 div.sk-serial {display: flex;flex-direction: column;align-items: center;background-color: white;padding-right: 0.2em;padding-left: 0.2em;position: relative;}#sk-container-id-7 div.sk-item {position: relative;z-index: 1;}#sk-container-id-7 div.sk-parallel {display: flex;align-items: stretch;justify-content: center;background-color: white;position: relative;}#sk-container-id-7 div.sk-item::before, #sk-container-id-7 div.sk-parallel-item::before {content: \"\";position: absolute;border-left: 1px solid gray;box-sizing: border-box;top: 0;bottom: 0;left: 50%;z-index: -1;}#sk-container-id-7 div.sk-parallel-item {display: flex;flex-direction: column;z-index: 1;position: relative;background-color: white;}#sk-container-id-7 div.sk-parallel-item:first-child::after {align-self: flex-end;width: 50%;}#sk-container-id-7 div.sk-parallel-item:last-child::after {align-self: flex-start;width: 50%;}#sk-container-id-7 div.sk-parallel-item:only-child::after {width: 0;}#sk-container-id-7 div.sk-dashed-wrapped {border: 1px dashed gray;margin: 0 0.4em 0.5em 0.4em;box-sizing: border-box;padding-bottom: 0.4em;background-color: white;}#sk-container-id-7 div.sk-label label {font-family: monospace;font-weight: bold;display: inline-block;line-height: 1.2em;}#sk-container-id-7 div.sk-label-container {text-align: center;}#sk-container-id-7 div.sk-container {/* jupyter's `normalize.less` sets `[hidden] { display: none; }` but bootstrap.min.css set `[hidden] { display: none !important; }` so we also need the `!important` here to be able to override the default hidden behavior on the sphinx rendered scikit-learn.org. See: https://github.com/scikit-learn/scikit-learn/issues/21755 */display: inline-block !important;position: relative;}#sk-container-id-7 div.sk-text-repr-fallback {display: none;}</style><div id=\"sk-container-id-7\" class=\"sk-top-container\"><div class=\"sk-text-repr-fallback\"><pre>XGBRegressor(alpha=5, base_score=0.5, booster=&#x27;gbtree&#x27;, callbacks=None,\n",
       "             colsample_bylevel=1, colsample_bynode=1, colsample_bytree=1,\n",
       "             early_stopping_rounds=None, enable_categorical=False,\n",
       "             eval_metric=None, feature_types=None, gamma=0, gpu_id=-1,\n",
       "             grow_policy=&#x27;depthwise&#x27;, importance_type=None,\n",
       "             interaction_constraints=&#x27;&#x27;, lambda=10, learning_rate=0.05,\n",
       "             max_bin=256, max_cat_threshold=64, max_cat_to_onehot=4,\n",
       "             max_delta_step=0, max_depth=2, max_leaves=0, min_child_weight=1,\n",
       "             missing=nan, monotone_constraints=&#x27;()&#x27;, n_estimators=100, n_jobs=0,\n",
       "             num_parallel_tree=1, ...)</pre><b>In a Jupyter environment, please rerun this cell to show the HTML representation or trust the notebook. <br />On GitHub, the HTML representation is unable to render, please try loading this page with nbviewer.org.</b></div><div class=\"sk-container\" hidden><div class=\"sk-item\"><div class=\"sk-estimator sk-toggleable\"><input class=\"sk-toggleable__control sk-hidden--visually\" id=\"sk-estimator-id-7\" type=\"checkbox\" checked><label for=\"sk-estimator-id-7\" class=\"sk-toggleable__label sk-toggleable__label-arrow\">XGBRegressor</label><div class=\"sk-toggleable__content\"><pre>XGBRegressor(alpha=5, base_score=0.5, booster=&#x27;gbtree&#x27;, callbacks=None,\n",
       "             colsample_bylevel=1, colsample_bynode=1, colsample_bytree=1,\n",
       "             early_stopping_rounds=None, enable_categorical=False,\n",
       "             eval_metric=None, feature_types=None, gamma=0, gpu_id=-1,\n",
       "             grow_policy=&#x27;depthwise&#x27;, importance_type=None,\n",
       "             interaction_constraints=&#x27;&#x27;, lambda=10, learning_rate=0.05,\n",
       "             max_bin=256, max_cat_threshold=64, max_cat_to_onehot=4,\n",
       "             max_delta_step=0, max_depth=2, max_leaves=0, min_child_weight=1,\n",
       "             missing=nan, monotone_constraints=&#x27;()&#x27;, n_estimators=100, n_jobs=0,\n",
       "             num_parallel_tree=1, ...)</pre></div></div></div></div></div>"
      ],
      "text/plain": [
       "XGBRegressor(alpha=5, base_score=0.5, booster='gbtree', callbacks=None,\n",
       "             colsample_bylevel=1, colsample_bynode=1, colsample_bytree=1,\n",
       "             early_stopping_rounds=None, enable_categorical=False,\n",
       "             eval_metric=None, feature_types=None, gamma=0, gpu_id=-1,\n",
       "             grow_policy='depthwise', importance_type=None,\n",
       "             interaction_constraints='', lambda=10, learning_rate=0.05,\n",
       "             max_bin=256, max_cat_threshold=64, max_cat_to_onehot=4,\n",
       "             max_delta_step=0, max_depth=2, max_leaves=0, min_child_weight=1,\n",
       "             missing=nan, monotone_constraints='()', n_estimators=100, n_jobs=0,\n",
       "             num_parallel_tree=1, ...)"
      ]
     },
     "execution_count": 284,
     "metadata": {},
     "output_type": "execute_result"
    }
   ],
   "source": [
    "grid_xgb.best_estimator_"
   ]
  },
  {
   "cell_type": "markdown",
   "id": "9211612d",
   "metadata": {},
   "source": [
    "С точки зрения ошибки rmse модели random forest лучше. Построим с помощью этой модели предсказание выручки для активных пользователей. Вычтем из неё все оплаты за 2022 год - в сумме получим выручку за 2023."
   ]
  },
  {
   "cell_type": "code",
   "execution_count": 347,
   "id": "441d91d5",
   "metadata": {},
   "outputs": [],
   "source": [
    "X_a = create_features(active_df)"
   ]
  },
  {
   "cell_type": "code",
   "execution_count": 348,
   "id": "0357e084",
   "metadata": {},
   "outputs": [
    {
     "name": "stdout",
     "output_type": "stream",
     "text": [
      "суммарная выручка активных в 2023: 27186.86787239759\n"
     ]
    }
   ],
   "source": [
    "X_a['LTV'] = grid_rf.predict(X_a)\n",
    "\n",
    "ltv_2023 = X_a.LTV.sum() - active_df.payment_d.sum()\n",
    "\n",
    "#revenue_2023 = X_a[X_a.cohort == '2022-12-01'].LTV.sum()\n",
    "print(f'суммарная выручка активных в 2023: {ltv_2023}')"
   ]
  },
  {
   "cell_type": "code",
   "execution_count": null,
   "id": "f6ab9df5",
   "metadata": {},
   "outputs": [],
   "source": []
  }
 ],
 "metadata": {
  "kernelspec": {
   "display_name": "Python 3 (ipykernel)",
   "language": "python",
   "name": "python3"
  },
  "language_info": {
   "codemirror_mode": {
    "name": "ipython",
    "version": 3
   },
   "file_extension": ".py",
   "mimetype": "text/x-python",
   "name": "python",
   "nbconvert_exporter": "python",
   "pygments_lexer": "ipython3",
   "version": "3.9.12"
  }
 },
 "nbformat": 4,
 "nbformat_minor": 5
}
